{
 "cells": [
  {
   "cell_type": "markdown",
   "metadata": {},
   "source": [
    "# <img style=\"float: left; padding-right: 10px; width: 80px\" src=\"https://raw.githubusercontent.com/trivikverma/researchgroup/master/static/media/resources/epa1316/TU_descriptor%20black.png\"> EPA-1316 Introduction to *Urban* Data Science \n",
    "\n",
    "\n",
    "## Project 1: Mobility, Built Environment & Sustainability\n",
    "\n",
    "**TU Delft**<br>\n",
    "**Q1 2020**<br>\n",
    "**Instructor:** Trivik Verma <br>\n",
    "**TAs:** Aarthi Meenakshi Sundaram, Jelle Egbers, Tess Kim, Lotte Lourens, Amir Ebrahimi Fard, Giulia Reggiani, Bramka Jafino, Talia Kaufmann <br>\n",
    "**[Computational Urban Science & Policy Lab](https://research.trivikverma.com/)** <br>\n",
    "\n",
    "---\n",
    "\n"
   ]
  },
  {
   "cell_type": "markdown",
   "metadata": {},
   "source": [
    "Urban mobility significantly contributes to global environmental impact. With the growth in urban areas worldwide, cities are implementing policies to focus on sustainable urban and mobility development. Urban areas exhibit high variability in structure, economic output, mobility behaviour, among others. Pinpointing to the exact causes of emissions is impossible. However, understanding the relationship of mobility with infrastructure resources and other urban indicators may help governments predict long-term mobility behaviour and intervene with future pathways into sustainable mobility options.\n",
    "\n",
    "Project goals: You are tasked to identify how mobility is related to the infrastructural form of a city and across multiple cities. Use your findings toward helping governments transform mobility within cities for reducing environmental impacts of mobility use.\n",
    "\n",
    "#### Data\n",
    "\n",
    "1. Local city-wide indicators of urban mobility: [Multi-city Traffic Dataset](https://utd19.ethz.ch/) provided publicly by The Institute for Transport Planning and Systems at ETH Zurich.\n",
    "\n",
    "2. Global city-wide indicators of urban mobility and environmental impacts: [Urban Typologies Project](http://web.mit.edu/afs/athena.mit.edu/org/i/its-lab/www/dashboard/new%20dashboard/index.html)\n",
    "[[Reference](https://iopscience.iop.org/article/10.1088/1748-9326/ab22c7)]\n",
    "\n",
    "3. Get indicators for infrastructure resources from OSMNX (street networks) and PYROSM (amenities and points of interest) python packages.\n",
    "\n",
    "#### High-level project goals\n",
    "\n",
    "1. Explore, Investigate, and Visualize various factors of the mobility data across cities of interest.\n",
    "2. Describe and incorporate additional data sources that you will use to help you understand relationships between mobility and the built environment.\n",
    "3. Identify correlations between mobility and the built environment.\n",
    "4. Perform clustering or LISA analysis on city streets where congestion may be related strongly with the presence of certain amenities. Think about how that may vary with distance to amenities.\n",
    "4. Or, train and evaluate models using the mobility data (either as predictors or as the primary\n",
    "response in some fashion) and your data sources.\n",
    "6. Use and interpret your models to discuss the causes and correlations of or effects due to differences in congestion across cities or within a city of your choice.\n",
    "7. Aggregate city-wide findings to correlate with environmental indicators used in data set (2) - urban typology - to comment on policy initiatives of the governments. (Think how you may aggregate city-wide findings to a single score for the whole city to compare with indicators used in data set (2))\n",
    "\n",
    "Note: Not all data may be available for all cities. Hence, conduct this analysis for at least _5_ cities overlapping between sets _1_ and _2_ in the data. You are welcome to do the analysis in many more cities."
   ]
  }
 ],
 "metadata": {
  "kernelspec": {
   "display_name": "Python 3",
   "language": "python",
   "name": "python3"
  },
  "language_info": {
   "codemirror_mode": {
    "name": "ipython",
    "version": 3
   },
   "file_extension": ".py",
   "mimetype": "text/x-python",
   "name": "python",
   "nbconvert_exporter": "python",
   "pygments_lexer": "ipython3",
   "version": "3.8.5"
  }
 },
 "nbformat": 4,
 "nbformat_minor": 4
}
