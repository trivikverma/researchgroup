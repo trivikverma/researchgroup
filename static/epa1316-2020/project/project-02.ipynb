{
 "cells": [
  {
   "cell_type": "markdown",
   "metadata": {},
   "source": [
    "# <img style=\"float: left; padding-right: 10px; width: 80px\" src=\"https://raw.githubusercontent.com/trivikverma/researchgroup/master/static/media/resources/epa1316/TU_descriptor%20black.png\"> EPA-1316 Introduction to *Urban* Data Science \n",
    "\n",
    "\n",
    "## Project 2: Identifying the Health Vulnerability in a City\n",
    "\n",
    "**TU Delft**<br>\n",
    "**Q1 2020**<br>\n",
    "**Instructor:** Trivik Verma <br>\n",
    "**TAs:** Aarthi Meenakshi Sundaram, Jelle Egbers, Tess Kim, Lotte Lourens, Amir Ebrahimi Fard, Giulia Reggiani, Bramka Jafino, Talia Kaufmann <br>\n",
    "**[Computational Urban Science & Policy Lab](https://research.trivikverma.com/)** <br>\n",
    "\n",
    "---\n",
    "\n"
   ]
  },
  {
   "cell_type": "markdown",
   "metadata": {},
   "source": [
    "COVID-19 pandemic has revealed very clearly how our health infrastructure is not resilient. For global health policy, the challenges for decision-makers are not only to understand which communities are vulnerable and where they are located but also assess how resilient the city is to various shocks (natural disasters, evacuations, health emergencies, etc). People who are exposed the most to certain events like extreme heat are also the most vulnerable to it because they are mostly low-income single households with kids and elderly with mobility issues [[Ref](https://www.nytimes.com/interactive/2020/08/24/climate/racism-redlining-cities-global-warming.html)]. The lack of greenery in their residential areas may even amplify such shocks. It is not an easy task to build infrastructure in a city that is going to be optimally located for all citizenry. Knowledge of spatial and temporal variability of infrastructure use can provide policy-makers with insight about potential interventions.\n",
    "\n",
    "Project goals: You are tasked to identify trends in ambulance calls across a city and/or in time and measure its relationship with indicators of socio-economic status of households, neighbourhoods or regions.\n",
    "\n",
    "#### DATA\n",
    "\n",
    "1. We will provide you with an emergency **calls** dataset (ambulance, firefighter, police, and coastguards) of The Netherlands collected from January 2017 to September 2020. That also includes calls made to these services during the period of lockdown and release cycles in the pandemic.\n",
    "**Since the data is not open-source yet, please send an email to me requesting access to it. Kindly do not share it with anybody outside of your project group.**\n",
    "\n",
    "2. A few selected OpenData resources\n",
    "[Den Haag Cijfers](https://denhaag.incijfers.nl/jive)\n",
    "Statistics Bureau of The Netherlands [CBS](https://www.cbs.nl/nl-nl/reeksen/kerncijfers-wijken-en-buurten-2004-2020)\n",
    "\n",
    "The calls dataset has the following indicators and was obtained from [112-Nederland](https://www.112-nederland.nl/),\n",
    "\n",
    "```\n",
    "pmeId - Related to the id on the website\n",
    "pmeTimeStamp - Time of call registered\n",
    "pmeProtocol1 - P2000 protocol related info\n",
    "pmeProtocol2 - P2000 protocol related info\n",
    "pmeTarget - P2000 protocol related info\n",
    "pmeMessage - Original message​\n",
    "pmePrio - Priority of the message\n",
    "pmePrioLevel - Conversion of priority to a normalized level\n",
    "pmeDienst - A=Ambulance, B=Brandweer, P=Politie\n",
    "pmeStrippedMessage - Cleaned Message of the call\n",
    "pmeStraat - Street\n",
    "pmeHouseNumber - Mid-point of the street closest to location of call (for data privacy)\n",
    "pmeHouseNumberAdd - Addition to house number\n",
    "pmeANRoad = A=highway, N=Provincial Way\n",
    "pmeHectometerpaal = Location on A or N way\n",
    "pmeZip - Zip code of the area\n",
    "pmeRegionName - Name of region\n",
    "pmeLatitude = wgs84\n",
    "pmeLongitude = wgs84\n",
    "pmeHash - Ignore internal indexing (for collection purposes only)\n",
    "pmeGeoAccuracy = H=Housenumber, S=Street\n",
    "pme_strId = Street Id\n",
    "pme_wplId = Woonplaats Id\n",
    "pme_gemId = Gemeente Id\n",
    "pme_proId = Province Id\n",
    "pme_vrgId = Veiligheidsregio Id\n",
    "pmeCapCodes = Capcodes\n",
    "pmeLifeLiner - True/False (Extraction by air)\n",
    "wplName = Woonplaats\n",
    "gemName = Gemeente / Municipality\n",
    "```\n",
    "\n",
    "#### High-level project goals\n",
    "\n",
    "1. Explore, Investigate, and Visualize various factors of the emergency services call data: geographic\n",
    "differences and time trends. Example: compare time trends, city trends, or both. You may also choose one city and focus on that.\n",
    "2. Describe and incorporate additional data sources that you will use to help you understand\n",
    "or use the calls data. Example: demographic data from municipalities in The Netherlands or CBS data as used during assignments.\n",
    "3. Train and evaluate models using the calls data (either as predictors or as the primary\n",
    "response in some fashion) and your data sources.\n",
    "4. Or, Cluster calls based on some socio-economic indicators of urban regions around The Netherlands.\n",
    "6. Use and interpret your models to discuss the causes and correlations of or effects due to differences in calls across cities or within a city of your choice. (You may use the Pyrosm package to find locations of health infrastructure and other amenities in a city and use the Osmnx package to find road-distance to nearest locations from a certain region in a city)."
   ]
  }
 ],
 "metadata": {
  "kernelspec": {
   "display_name": "Python 3",
   "language": "python",
   "name": "python3"
  },
  "language_info": {
   "codemirror_mode": {
    "name": "ipython",
    "version": 3
   },
   "file_extension": ".py",
   "mimetype": "text/x-python",
   "name": "python",
   "nbconvert_exporter": "python",
   "pygments_lexer": "ipython3",
   "version": "3.8.5"
  }
 },
 "nbformat": 4,
 "nbformat_minor": 4
}
